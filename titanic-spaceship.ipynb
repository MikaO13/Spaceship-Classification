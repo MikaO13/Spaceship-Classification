{
 "cells": [
  {
   "cell_type": "code",
   "execution_count": 818,
   "metadata": {},
   "outputs": [],
   "source": [
    "import numpy as np\n",
    "import pandas as pd\n",
    "import matplotlib.pyplot as plt\n",
    "import seaborn as sns\n",
    "from sklearn.model_selection import train_test_split, GridSearchCV, cross_val_score, KFold, StratifiedKFold\n",
    "from sklearn.ensemble import RandomForestClassifier"
   ]
  },
  {
   "cell_type": "code",
   "execution_count": 819,
   "metadata": {},
   "outputs": [],
   "source": [
    "train_df = pd.read_csv('train.csv') # 8693 rows\n",
    "test_df = pd.read_csv('test.csv') \n",
    "df = pd.concat([train_df, test_df], axis=0)"
   ]
  },
  {
   "cell_type": "code",
   "execution_count": 820,
   "metadata": {},
   "outputs": [
    {
     "data": {
      "text/html": [
       "<div>\n",
       "<style scoped>\n",
       "    .dataframe tbody tr th:only-of-type {\n",
       "        vertical-align: middle;\n",
       "    }\n",
       "\n",
       "    .dataframe tbody tr th {\n",
       "        vertical-align: top;\n",
       "    }\n",
       "\n",
       "    .dataframe thead th {\n",
       "        text-align: right;\n",
       "    }\n",
       "</style>\n",
       "<table border=\"1\" class=\"dataframe\">\n",
       "  <thead>\n",
       "    <tr style=\"text-align: right;\">\n",
       "      <th></th>\n",
       "      <th>PassengerId</th>\n",
       "      <th>HomePlanet</th>\n",
       "      <th>CryoSleep</th>\n",
       "      <th>Cabin</th>\n",
       "      <th>Destination</th>\n",
       "      <th>Age</th>\n",
       "      <th>VIP</th>\n",
       "      <th>RoomService</th>\n",
       "      <th>FoodCourt</th>\n",
       "      <th>ShoppingMall</th>\n",
       "      <th>Spa</th>\n",
       "      <th>VRDeck</th>\n",
       "      <th>Name</th>\n",
       "      <th>Transported</th>\n",
       "    </tr>\n",
       "  </thead>\n",
       "  <tbody>\n",
       "    <tr>\n",
       "      <th>0</th>\n",
       "      <td>0001_01</td>\n",
       "      <td>Europa</td>\n",
       "      <td>False</td>\n",
       "      <td>B/0/P</td>\n",
       "      <td>TRAPPIST-1e</td>\n",
       "      <td>39.0</td>\n",
       "      <td>False</td>\n",
       "      <td>0.0</td>\n",
       "      <td>0.0</td>\n",
       "      <td>0.0</td>\n",
       "      <td>0.0</td>\n",
       "      <td>0.0</td>\n",
       "      <td>Maham Ofracculy</td>\n",
       "      <td>False</td>\n",
       "    </tr>\n",
       "    <tr>\n",
       "      <th>1</th>\n",
       "      <td>0002_01</td>\n",
       "      <td>Earth</td>\n",
       "      <td>False</td>\n",
       "      <td>F/0/S</td>\n",
       "      <td>TRAPPIST-1e</td>\n",
       "      <td>24.0</td>\n",
       "      <td>False</td>\n",
       "      <td>109.0</td>\n",
       "      <td>9.0</td>\n",
       "      <td>25.0</td>\n",
       "      <td>549.0</td>\n",
       "      <td>44.0</td>\n",
       "      <td>Juanna Vines</td>\n",
       "      <td>True</td>\n",
       "    </tr>\n",
       "    <tr>\n",
       "      <th>2</th>\n",
       "      <td>0003_01</td>\n",
       "      <td>Europa</td>\n",
       "      <td>False</td>\n",
       "      <td>A/0/S</td>\n",
       "      <td>TRAPPIST-1e</td>\n",
       "      <td>58.0</td>\n",
       "      <td>True</td>\n",
       "      <td>43.0</td>\n",
       "      <td>3576.0</td>\n",
       "      <td>0.0</td>\n",
       "      <td>6715.0</td>\n",
       "      <td>49.0</td>\n",
       "      <td>Altark Susent</td>\n",
       "      <td>False</td>\n",
       "    </tr>\n",
       "    <tr>\n",
       "      <th>3</th>\n",
       "      <td>0003_02</td>\n",
       "      <td>Europa</td>\n",
       "      <td>False</td>\n",
       "      <td>A/0/S</td>\n",
       "      <td>TRAPPIST-1e</td>\n",
       "      <td>33.0</td>\n",
       "      <td>False</td>\n",
       "      <td>0.0</td>\n",
       "      <td>1283.0</td>\n",
       "      <td>371.0</td>\n",
       "      <td>3329.0</td>\n",
       "      <td>193.0</td>\n",
       "      <td>Solam Susent</td>\n",
       "      <td>False</td>\n",
       "    </tr>\n",
       "    <tr>\n",
       "      <th>4</th>\n",
       "      <td>0004_01</td>\n",
       "      <td>Earth</td>\n",
       "      <td>False</td>\n",
       "      <td>F/1/S</td>\n",
       "      <td>TRAPPIST-1e</td>\n",
       "      <td>16.0</td>\n",
       "      <td>False</td>\n",
       "      <td>303.0</td>\n",
       "      <td>70.0</td>\n",
       "      <td>151.0</td>\n",
       "      <td>565.0</td>\n",
       "      <td>2.0</td>\n",
       "      <td>Willy Santantines</td>\n",
       "      <td>True</td>\n",
       "    </tr>\n",
       "  </tbody>\n",
       "</table>\n",
       "</div>"
      ],
      "text/plain": [
       "  PassengerId HomePlanet CryoSleep  Cabin  Destination   Age    VIP  \\\n",
       "0     0001_01     Europa     False  B/0/P  TRAPPIST-1e  39.0  False   \n",
       "1     0002_01      Earth     False  F/0/S  TRAPPIST-1e  24.0  False   \n",
       "2     0003_01     Europa     False  A/0/S  TRAPPIST-1e  58.0   True   \n",
       "3     0003_02     Europa     False  A/0/S  TRAPPIST-1e  33.0  False   \n",
       "4     0004_01      Earth     False  F/1/S  TRAPPIST-1e  16.0  False   \n",
       "\n",
       "   RoomService  FoodCourt  ShoppingMall     Spa  VRDeck               Name  \\\n",
       "0          0.0        0.0           0.0     0.0     0.0    Maham Ofracculy   \n",
       "1        109.0        9.0          25.0   549.0    44.0       Juanna Vines   \n",
       "2         43.0     3576.0           0.0  6715.0    49.0      Altark Susent   \n",
       "3          0.0     1283.0         371.0  3329.0   193.0       Solam Susent   \n",
       "4        303.0       70.0         151.0   565.0     2.0  Willy Santantines   \n",
       "\n",
       "  Transported  \n",
       "0       False  \n",
       "1        True  \n",
       "2       False  \n",
       "3       False  \n",
       "4        True  "
      ]
     },
     "execution_count": 820,
     "metadata": {},
     "output_type": "execute_result"
    }
   ],
   "source": [
    "df.head()"
   ]
  },
  {
   "cell_type": "code",
   "execution_count": 821,
   "metadata": {},
   "outputs": [
    {
     "name": "stdout",
     "output_type": "stream",
     "text": [
      "<class 'pandas.core.frame.DataFrame'>\n",
      "Int64Index: 12970 entries, 0 to 4276\n",
      "Data columns (total 14 columns):\n",
      " #   Column        Non-Null Count  Dtype  \n",
      "---  ------        --------------  -----  \n",
      " 0   PassengerId   12970 non-null  object \n",
      " 1   HomePlanet    12682 non-null  object \n",
      " 2   CryoSleep     12660 non-null  object \n",
      " 3   Cabin         12671 non-null  object \n",
      " 4   Destination   12696 non-null  object \n",
      " 5   Age           12700 non-null  float64\n",
      " 6   VIP           12674 non-null  object \n",
      " 7   RoomService   12707 non-null  float64\n",
      " 8   FoodCourt     12681 non-null  float64\n",
      " 9   ShoppingMall  12664 non-null  float64\n",
      " 10  Spa           12686 non-null  float64\n",
      " 11  VRDeck        12702 non-null  float64\n",
      " 12  Name          12676 non-null  object \n",
      " 13  Transported   8693 non-null   object \n",
      "dtypes: float64(6), object(8)\n",
      "memory usage: 1.5+ MB\n"
     ]
    }
   ],
   "source": [
    "df.info()"
   ]
  },
  {
   "cell_type": "code",
   "execution_count": 822,
   "metadata": {},
   "outputs": [
    {
     "data": {
      "text/html": [
       "<div>\n",
       "<style scoped>\n",
       "    .dataframe tbody tr th:only-of-type {\n",
       "        vertical-align: middle;\n",
       "    }\n",
       "\n",
       "    .dataframe tbody tr th {\n",
       "        vertical-align: top;\n",
       "    }\n",
       "\n",
       "    .dataframe thead th {\n",
       "        text-align: right;\n",
       "    }\n",
       "</style>\n",
       "<table border=\"1\" class=\"dataframe\">\n",
       "  <thead>\n",
       "    <tr style=\"text-align: right;\">\n",
       "      <th></th>\n",
       "      <th>Age</th>\n",
       "      <th>RoomService</th>\n",
       "      <th>FoodCourt</th>\n",
       "      <th>ShoppingMall</th>\n",
       "      <th>Spa</th>\n",
       "      <th>VRDeck</th>\n",
       "    </tr>\n",
       "  </thead>\n",
       "  <tbody>\n",
       "    <tr>\n",
       "      <th>count</th>\n",
       "      <td>12700.000000</td>\n",
       "      <td>12707.000000</td>\n",
       "      <td>12681.000000</td>\n",
       "      <td>12664.000000</td>\n",
       "      <td>12686.000000</td>\n",
       "      <td>12702.000000</td>\n",
       "    </tr>\n",
       "    <tr>\n",
       "      <th>mean</th>\n",
       "      <td>28.771969</td>\n",
       "      <td>222.897852</td>\n",
       "      <td>451.961675</td>\n",
       "      <td>174.906033</td>\n",
       "      <td>308.476904</td>\n",
       "      <td>306.789482</td>\n",
       "    </tr>\n",
       "    <tr>\n",
       "      <th>std</th>\n",
       "      <td>14.387261</td>\n",
       "      <td>647.596664</td>\n",
       "      <td>1584.370747</td>\n",
       "      <td>590.558690</td>\n",
       "      <td>1130.279641</td>\n",
       "      <td>1180.097223</td>\n",
       "    </tr>\n",
       "    <tr>\n",
       "      <th>min</th>\n",
       "      <td>0.000000</td>\n",
       "      <td>0.000000</td>\n",
       "      <td>0.000000</td>\n",
       "      <td>0.000000</td>\n",
       "      <td>0.000000</td>\n",
       "      <td>0.000000</td>\n",
       "    </tr>\n",
       "    <tr>\n",
       "      <th>25%</th>\n",
       "      <td>19.000000</td>\n",
       "      <td>0.000000</td>\n",
       "      <td>0.000000</td>\n",
       "      <td>0.000000</td>\n",
       "      <td>0.000000</td>\n",
       "      <td>0.000000</td>\n",
       "    </tr>\n",
       "    <tr>\n",
       "      <th>50%</th>\n",
       "      <td>27.000000</td>\n",
       "      <td>0.000000</td>\n",
       "      <td>0.000000</td>\n",
       "      <td>0.000000</td>\n",
       "      <td>0.000000</td>\n",
       "      <td>0.000000</td>\n",
       "    </tr>\n",
       "    <tr>\n",
       "      <th>75%</th>\n",
       "      <td>38.000000</td>\n",
       "      <td>49.000000</td>\n",
       "      <td>77.000000</td>\n",
       "      <td>29.000000</td>\n",
       "      <td>57.000000</td>\n",
       "      <td>42.000000</td>\n",
       "    </tr>\n",
       "    <tr>\n",
       "      <th>max</th>\n",
       "      <td>79.000000</td>\n",
       "      <td>14327.000000</td>\n",
       "      <td>29813.000000</td>\n",
       "      <td>23492.000000</td>\n",
       "      <td>22408.000000</td>\n",
       "      <td>24133.000000</td>\n",
       "    </tr>\n",
       "  </tbody>\n",
       "</table>\n",
       "</div>"
      ],
      "text/plain": [
       "                Age   RoomService     FoodCourt  ShoppingMall           Spa  \\\n",
       "count  12700.000000  12707.000000  12681.000000  12664.000000  12686.000000   \n",
       "mean      28.771969    222.897852    451.961675    174.906033    308.476904   \n",
       "std       14.387261    647.596664   1584.370747    590.558690   1130.279641   \n",
       "min        0.000000      0.000000      0.000000      0.000000      0.000000   \n",
       "25%       19.000000      0.000000      0.000000      0.000000      0.000000   \n",
       "50%       27.000000      0.000000      0.000000      0.000000      0.000000   \n",
       "75%       38.000000     49.000000     77.000000     29.000000     57.000000   \n",
       "max       79.000000  14327.000000  29813.000000  23492.000000  22408.000000   \n",
       "\n",
       "             VRDeck  \n",
       "count  12702.000000  \n",
       "mean     306.789482  \n",
       "std     1180.097223  \n",
       "min        0.000000  \n",
       "25%        0.000000  \n",
       "50%        0.000000  \n",
       "75%       42.000000  \n",
       "max    24133.000000  "
      ]
     },
     "execution_count": 822,
     "metadata": {},
     "output_type": "execute_result"
    }
   ],
   "source": [
    "df.describe()"
   ]
  },
  {
   "cell_type": "code",
   "execution_count": 823,
   "metadata": {},
   "outputs": [],
   "source": [
    "df['Cabin'].fillna('N/N/N', inplace=True)\n",
    "\n",
    "deck_num_side = df['Cabin'].apply(lambda x: x.split('/'))\n",
    "df['CabinDeck'] = list(map(lambda x: x[0], deck_num_side))\n",
    "df['CabinNum'] = list(map(lambda x: x[1], deck_num_side))\n",
    "df['CabinSide'] = list(map(lambda x: x[2], deck_num_side))\n",
    "df.drop('Cabin', axis=1, inplace=True)"
   ]
  },
  {
   "cell_type": "code",
   "execution_count": 824,
   "metadata": {},
   "outputs": [],
   "source": [
    "colfillmode = ['VIP']\n",
    "colfillnone = ['Destination', 'HomePlanet', 'Name']\n",
    "colfillmedian = ['Age', 'RoomService', 'FoodCourt', 'ShoppingMall', 'Spa', 'VRDeck']\n",
    "\n",
    "for col in colfillmode:\n",
    "    df[col].fillna(df[col].mode()[0], inplace=True)\n",
    "for col in colfillnone:\n",
    "    df[col].fillna('None', inplace=True)\n",
    "for col in colfillmedian:\n",
    "    df[col].fillna(df[col].median(), inplace=True)\n",
    "\n",
    "# if no money spent, more likely sleeping. if money spent, no cryo sleep\n",
    "df['CryoSleep'] = df.apply(lambda row: False if row['RoomService'] > 0 or row['FoodCourt'] > 0 or row['ShoppingMall'] > 0 or row['Spa'] > 0 or row['VRDeck'] > 0 else True, axis=1)\n"
   ]
  },
  {
   "cell_type": "code",
   "execution_count": 825,
   "metadata": {},
   "outputs": [
    {
     "data": {
      "text/plain": [
       "TRAPPIST-1e      8871\n",
       "55 Cancri e      2641\n",
       "PSO J318.5-22    1184\n",
       "None              274\n",
       "Name: Destination, dtype: int64"
      ]
     },
     "execution_count": 825,
     "metadata": {},
     "output_type": "execute_result"
    }
   ],
   "source": [
    "df['Destination'].value_counts()"
   ]
  },
  {
   "cell_type": "code",
   "execution_count": 826,
   "metadata": {},
   "outputs": [],
   "source": [
    "gggg_pp = df['PassengerId'].apply(lambda x: x.split('_')).values\n",
    "df['GGGG'] = list(map(lambda x: x[0], gggg_pp))\n",
    "df['PP'] = list(map(lambda x: x[1], gggg_pp))\n",
    "grouplist = {}\n",
    "for i in df['GGGG']:\n",
    "    if i not in grouplist:\n",
    "        grouplist[i] = 1\n",
    "    else:\n",
    "        grouplist[i] += 1\n",
    "df['GroupCount'] = df['GGGG'].apply(lambda x: grouplist[x])\n"
   ]
  },
  {
   "cell_type": "code",
   "execution_count": 827,
   "metadata": {},
   "outputs": [],
   "source": [
    "group_trip = {} # Group Num : [HomePlanet, Destination]\n",
    "for i, person in df.iterrows():\n",
    "    pgroup = person['GGGG']\n",
    "    if pgroup not in group_trip:\n",
    "        group_trip[pgroup] = [person['HomePlanet'], person['Destination']]\n",
    "    else:\n",
    "        if group_trip[pgroup][0] == 'None' and person['HomePlanet'] != 'None':\n",
    "            group_trip[pgroup][0] = person['HomePlanet']\n",
    "        if group_trip[pgroup][1] == 'None' and person['Destination'] != 'None':\n",
    "            group_trip[pgroup][1] = person['Destination']"
   ]
  },
  {
   "cell_type": "code",
   "execution_count": 828,
   "metadata": {},
   "outputs": [],
   "source": [
    "df['Destination'] = df.apply(lambda row: group_trip[row['GGGG']][1], axis=1)\n",
    "df['HomePlanet'] = df.apply(lambda row: group_trip[row['GGGG']][0], axis=1)"
   ]
  },
  {
   "cell_type": "code",
   "execution_count": 829,
   "metadata": {},
   "outputs": [],
   "source": [
    "df['TotalSpent'] = df['RoomService'] + df['FoodCourt'] + df['ShoppingMall'] + df['Spa'] + df['VRDeck']"
   ]
  },
  {
   "cell_type": "markdown",
   "metadata": {},
   "source": [
    "Transform the money ones to log10 scale due to large skew"
   ]
  },
  {
   "cell_type": "code",
   "execution_count": 830,
   "metadata": {},
   "outputs": [],
   "source": [
    "for col in ['TotalSpent', 'RoomService', 'FoodCourt', 'ShoppingMall', 'Spa', 'VRDeck']:\n",
    "    df[col] = np.log10(df[col] + 1)\n",
    "    df[col+'Above0'] = df[col].apply(lambda x: 1 if x > 0 else 0)\n",
    "df['PlacesMoneySpent'] = df['RoomServiceAbove0'] + df['FoodCourtAbove0'] + df['ShoppingMallAbove0'] + df['SpaAbove0'] + df['VRDeckAbove0']"
   ]
  },
  {
   "cell_type": "code",
   "execution_count": 831,
   "metadata": {},
   "outputs": [
    {
     "data": {
      "text/html": [
       "<div>\n",
       "<style scoped>\n",
       "    .dataframe tbody tr th:only-of-type {\n",
       "        vertical-align: middle;\n",
       "    }\n",
       "\n",
       "    .dataframe tbody tr th {\n",
       "        vertical-align: top;\n",
       "    }\n",
       "\n",
       "    .dataframe thead th {\n",
       "        text-align: right;\n",
       "    }\n",
       "</style>\n",
       "<table border=\"1\" class=\"dataframe\">\n",
       "  <thead>\n",
       "    <tr style=\"text-align: right;\">\n",
       "      <th></th>\n",
       "      <th>PassengerId</th>\n",
       "      <th>HomePlanet</th>\n",
       "      <th>CryoSleep</th>\n",
       "      <th>Destination</th>\n",
       "      <th>Age</th>\n",
       "      <th>VIP</th>\n",
       "      <th>RoomService</th>\n",
       "      <th>FoodCourt</th>\n",
       "      <th>ShoppingMall</th>\n",
       "      <th>Spa</th>\n",
       "      <th>...</th>\n",
       "      <th>GGGG</th>\n",
       "      <th>PP</th>\n",
       "      <th>GroupCount</th>\n",
       "      <th>TotalSpent</th>\n",
       "      <th>TotalSpentAbove0</th>\n",
       "      <th>RoomServiceAbove0</th>\n",
       "      <th>FoodCourtAbove0</th>\n",
       "      <th>ShoppingMallAbove0</th>\n",
       "      <th>SpaAbove0</th>\n",
       "      <th>VRDeckAbove0</th>\n",
       "    </tr>\n",
       "  </thead>\n",
       "  <tbody>\n",
       "    <tr>\n",
       "      <th>0</th>\n",
       "      <td>0001_01</td>\n",
       "      <td>Europa</td>\n",
       "      <td>True</td>\n",
       "      <td>TRAPPIST-1e</td>\n",
       "      <td>39.0</td>\n",
       "      <td>False</td>\n",
       "      <td>0.000000</td>\n",
       "      <td>0.000000</td>\n",
       "      <td>0.000000</td>\n",
       "      <td>0.000000</td>\n",
       "      <td>...</td>\n",
       "      <td>0001</td>\n",
       "      <td>01</td>\n",
       "      <td>1</td>\n",
       "      <td>0.000000</td>\n",
       "      <td>0</td>\n",
       "      <td>0</td>\n",
       "      <td>0</td>\n",
       "      <td>0</td>\n",
       "      <td>0</td>\n",
       "      <td>0</td>\n",
       "    </tr>\n",
       "    <tr>\n",
       "      <th>1</th>\n",
       "      <td>0002_01</td>\n",
       "      <td>Earth</td>\n",
       "      <td>False</td>\n",
       "      <td>TRAPPIST-1e</td>\n",
       "      <td>24.0</td>\n",
       "      <td>False</td>\n",
       "      <td>2.041393</td>\n",
       "      <td>1.000000</td>\n",
       "      <td>1.414973</td>\n",
       "      <td>2.740363</td>\n",
       "      <td>...</td>\n",
       "      <td>0002</td>\n",
       "      <td>01</td>\n",
       "      <td>1</td>\n",
       "      <td>2.867467</td>\n",
       "      <td>1</td>\n",
       "      <td>1</td>\n",
       "      <td>1</td>\n",
       "      <td>1</td>\n",
       "      <td>1</td>\n",
       "      <td>1</td>\n",
       "    </tr>\n",
       "    <tr>\n",
       "      <th>2</th>\n",
       "      <td>0003_01</td>\n",
       "      <td>Europa</td>\n",
       "      <td>False</td>\n",
       "      <td>TRAPPIST-1e</td>\n",
       "      <td>58.0</td>\n",
       "      <td>True</td>\n",
       "      <td>1.643453</td>\n",
       "      <td>3.553519</td>\n",
       "      <td>0.000000</td>\n",
       "      <td>3.827111</td>\n",
       "      <td>...</td>\n",
       "      <td>0003</td>\n",
       "      <td>01</td>\n",
       "      <td>2</td>\n",
       "      <td>4.016365</td>\n",
       "      <td>1</td>\n",
       "      <td>1</td>\n",
       "      <td>1</td>\n",
       "      <td>0</td>\n",
       "      <td>1</td>\n",
       "      <td>1</td>\n",
       "    </tr>\n",
       "    <tr>\n",
       "      <th>3</th>\n",
       "      <td>0003_02</td>\n",
       "      <td>Europa</td>\n",
       "      <td>False</td>\n",
       "      <td>TRAPPIST-1e</td>\n",
       "      <td>33.0</td>\n",
       "      <td>False</td>\n",
       "      <td>0.000000</td>\n",
       "      <td>3.108565</td>\n",
       "      <td>2.570543</td>\n",
       "      <td>3.522444</td>\n",
       "      <td>...</td>\n",
       "      <td>0003</td>\n",
       "      <td>02</td>\n",
       "      <td>2</td>\n",
       "      <td>3.714078</td>\n",
       "      <td>1</td>\n",
       "      <td>0</td>\n",
       "      <td>1</td>\n",
       "      <td>1</td>\n",
       "      <td>1</td>\n",
       "      <td>1</td>\n",
       "    </tr>\n",
       "    <tr>\n",
       "      <th>4</th>\n",
       "      <td>0004_01</td>\n",
       "      <td>Earth</td>\n",
       "      <td>False</td>\n",
       "      <td>TRAPPIST-1e</td>\n",
       "      <td>16.0</td>\n",
       "      <td>False</td>\n",
       "      <td>2.482874</td>\n",
       "      <td>1.851258</td>\n",
       "      <td>2.181844</td>\n",
       "      <td>2.752816</td>\n",
       "      <td>...</td>\n",
       "      <td>0004</td>\n",
       "      <td>01</td>\n",
       "      <td>1</td>\n",
       "      <td>3.038223</td>\n",
       "      <td>1</td>\n",
       "      <td>1</td>\n",
       "      <td>1</td>\n",
       "      <td>1</td>\n",
       "      <td>1</td>\n",
       "      <td>1</td>\n",
       "    </tr>\n",
       "  </tbody>\n",
       "</table>\n",
       "<p>5 rows × 26 columns</p>\n",
       "</div>"
      ],
      "text/plain": [
       "  PassengerId HomePlanet  CryoSleep  Destination   Age    VIP  RoomService  \\\n",
       "0     0001_01     Europa       True  TRAPPIST-1e  39.0  False     0.000000   \n",
       "1     0002_01      Earth      False  TRAPPIST-1e  24.0  False     2.041393   \n",
       "2     0003_01     Europa      False  TRAPPIST-1e  58.0   True     1.643453   \n",
       "3     0003_02     Europa      False  TRAPPIST-1e  33.0  False     0.000000   \n",
       "4     0004_01      Earth      False  TRAPPIST-1e  16.0  False     2.482874   \n",
       "\n",
       "   FoodCourt  ShoppingMall       Spa  ...  GGGG  PP GroupCount TotalSpent  \\\n",
       "0   0.000000      0.000000  0.000000  ...  0001  01          1   0.000000   \n",
       "1   1.000000      1.414973  2.740363  ...  0002  01          1   2.867467   \n",
       "2   3.553519      0.000000  3.827111  ...  0003  01          2   4.016365   \n",
       "3   3.108565      2.570543  3.522444  ...  0003  02          2   3.714078   \n",
       "4   1.851258      2.181844  2.752816  ...  0004  01          1   3.038223   \n",
       "\n",
       "  TotalSpentAbove0 RoomServiceAbove0 FoodCourtAbove0 ShoppingMallAbove0  \\\n",
       "0                0                 0               0                  0   \n",
       "1                1                 1               1                  1   \n",
       "2                1                 1               1                  0   \n",
       "3                1                 0               1                  1   \n",
       "4                1                 1               1                  1   \n",
       "\n",
       "   SpaAbove0  VRDeckAbove0  \n",
       "0          0             0  \n",
       "1          1             1  \n",
       "2          1             1  \n",
       "3          1             1  \n",
       "4          1             1  \n",
       "\n",
       "[5 rows x 26 columns]"
      ]
     },
     "execution_count": 831,
     "metadata": {},
     "output_type": "execute_result"
    }
   ],
   "source": [
    "df.head()"
   ]
  },
  {
   "cell_type": "code",
   "execution_count": 832,
   "metadata": {},
   "outputs": [
    {
     "data": {
      "image/png": "[encoded data removed]",
      "text/plain": [
       "<Figure size 720x432 with 6 Axes>"
      ]
     },
     "metadata": {
      "needs_background": "light"
     },
     "output_type": "display_data"
    }
   ],
   "source": [
    "fig = plt.figure(figsize=(10, 6))\n",
    "moneyplaces = ['RoomService', 'FoodCourt', 'ShoppingMall', 'Spa', 'VRDeck', 'TotalSpent']\n",
    "for i in range(len(moneyplaces)):\n",
    "    plt.subplot(3, 2, i+1)\n",
    "    sns.histplot(x=moneyplaces[i], bins=100, hue='Transported', data=temp, multiple='stack')\n",
    "    plt.axis([0.1, 4, 0, 500])\n",
    "plt.subplots_adjust(wspace=0.15, hspace=0.5)\n",
    "\n",
    "df['SpentALot'] = df['TotalSpent'].apply(lambda x: 1 if x > 2.9 else 0)\n"
   ]
  },
  {
   "cell_type": "markdown",
   "metadata": {},
   "source": [
    "Younger people look to have a much higher proportion of being transported"
   ]
  },
  {
   "cell_type": "code",
   "execution_count": 833,
   "metadata": {},
   "outputs": [
    {
     "data": {
      "text/plain": [
       "<AxesSubplot:xlabel='Age', ylabel='Count'>"
      ]
     },
     "execution_count": 833,
     "metadata": {},
     "output_type": "execute_result"
    },
    {
     "data": {
      "image/png": "[encoded data removed]",
      "text/plain": [
       "<Figure size 432x288 with 1 Axes>"
      ]
     },
     "metadata": {
      "needs_background": "light"
     },
     "output_type": "display_data"
    }
   ],
   "source": [
    "temp = df.iloc[:8693, :]\n",
    "sns.histplot(x='Age', bins=100, hue='Transported', data=temp)"
   ]
  },
  {
   "cell_type": "code",
   "execution_count": 834,
   "metadata": {},
   "outputs": [
    {
     "data": {
      "text/plain": [
       "<matplotlib.collections.PathCollection at 0x1b988b056d0>"
      ]
     },
     "execution_count": 834,
     "metadata": {},
     "output_type": "execute_result"
    },
    {
     "data": {
      "image/png": "[encoded data removed]",
      "text/plain": [
       "<Figure size 432x288 with 1 Axes>"
      ]
     },
     "metadata": {
      "needs_background": "light"
     },
     "output_type": "display_data"
    }
   ],
   "source": [
    "age_transported = {}\n",
    "for i, person in temp.iterrows():\n",
    "    if person['Transported']:\n",
    "        if person['Age'] in age_transported:\n",
    "            age_transported[person['Age']] += 1\n",
    "        else:\n",
    "            age_transported[person['Age']] = 1\n",
    "\n",
    "valcounts = temp['Age'].value_counts()\n",
    "for i in valcounts.index:\n",
    "    if i not in age_transported:\n",
    "        age_transported[i] = 0\n",
    "    else:\n",
    "        age_transported[i] /= valcounts[i]\n",
    "\n",
    "plt.scatter(age_transported.keys(), age_transported.values())"
   ]
  },
  {
   "cell_type": "markdown",
   "metadata": {},
   "source": [
    "Looks like specifically < 18 and < 5 are the big differences in transported rates"
   ]
  },
  {
   "cell_type": "code",
   "execution_count": 835,
   "metadata": {},
   "outputs": [
    {
     "data": {
      "text/plain": [
       "[(0.0, 0.8089887640449438),\n",
       " (1.0, 0.7313432835820896),\n",
       " (2.0, 0.7066666666666667),\n",
       " (3.0, 0.7866666666666666),\n",
       " (4.0, 0.7464788732394366),\n",
       " (5.0, 0.6060606060606061),\n",
       " (6.0, 0.575),\n",
       " (7.0, 0.6153846153846154),\n",
       " (8.0, 0.5652173913043478),\n",
       " (9.0, 0.5714285714285714),\n",
       " (10.0, 0.6410256410256411),\n",
       " (11.0, 0.574468085106383),\n",
       " (12.0, 0.7073170731707317),\n",
       " (13.0, 0.5106382978723404),\n",
       " (14.0, 0.5579710144927537),\n",
       " (15.0, 0.5870967741935483),\n",
       " (16.0, 0.54421768707483),\n",
       " (17.0, 0.5632911392405063),\n",
       " (18.0, 0.5),\n",
       " (19.0, 0.4709897610921502),\n",
       " (20.0, 0.4548736462093863),\n",
       " (21.0, 0.40514469453376206),\n",
       " (22.0, 0.4570446735395189),\n",
       " (23.0, 0.4691780821917808),\n",
       " (24.0, 0.43209876543209874),\n",
       " (25.0, 0.48148148148148145),\n",
       " (26.0, 0.47761194029850745),\n",
       " (27.0, 0.4954337899543379),\n",
       " (28.0, 0.5617977528089888),\n",
       " (29.0, 0.48695652173913045),\n",
       " (30.0, 0.44808743169398907),\n",
       " (31.0, 0.41089108910891087),\n",
       " (32.0, 0.4371859296482412),\n",
       " (33.0, 0.46629213483146065),\n",
       " (34.0, 0.5202702702702703),\n",
       " (35.0, 0.5146198830409356),\n",
       " (36.0, 0.5),\n",
       " (37.0, 0.4180790960451977),\n",
       " (38.0, 0.4409937888198758),\n",
       " (39.0, 0.4492753623188406),\n",
       " (40.0, 0.5703125),\n",
       " (41.0, 0.5193798449612403),\n",
       " (42.0, 0.44537815126050423),\n",
       " (43.0, 0.5078125),\n",
       " (44.0, 0.5478260869565217),\n",
       " (45.0, 0.47191011235955055),\n",
       " (46.0, 0.4948453608247423),\n",
       " (47.0, 0.5340909090909091),\n",
       " (48.0, 0.5416666666666666),\n",
       " (49.0, 0.40963855421686746),\n",
       " (50.0, 0.5),\n",
       " (51.0, 0.3559322033898305),\n",
       " (52.0, 0.5384615384615384),\n",
       " (53.0, 0.4918032786885246),\n",
       " (54.0, 0.47761194029850745),\n",
       " (55.0, 0.47058823529411764),\n",
       " (56.0, 0.4583333333333333),\n",
       " (57.0, 0.4782608695652174),\n",
       " (58.0, 0.5106382978723404),\n",
       " (59.0, 0.7714285714285715),\n",
       " (60.0, 0.4411764705882353),\n",
       " (61.0, 0.5625),\n",
       " (62.0, 0.5),\n",
       " (63.0, 0.38461538461538464),\n",
       " (64.0, 0.5517241379310345),\n",
       " (65.0, 0.30434782608695654),\n",
       " (66.0, 0.5714285714285714),\n",
       " (67.0, 0.5384615384615384),\n",
       " (68.0, 0.6666666666666666),\n",
       " (69.0, 0.16666666666666666),\n",
       " (70.0, 0.6666666666666666),\n",
       " (71.0, 0.42857142857142855),\n",
       " (72.0, 0.5),\n",
       " (73.0, 0.14285714285714285),\n",
       " (74.0, 0.6),\n",
       " (75.0, 0.5),\n",
       " (76.0, 0.5),\n",
       " (77.0, 0.5),\n",
       " (78.0, 0.3333333333333333),\n",
       " (79.0, 0)]"
      ]
     },
     "execution_count": 835,
     "metadata": {},
     "output_type": "execute_result"
    }
   ],
   "source": [
    "sorted(age_transported.items(), key=lambda x: x[0])"
   ]
  },
  {
   "cell_type": "code",
   "execution_count": 836,
   "metadata": {},
   "outputs": [],
   "source": [
    "df['Under_5'] = df['Age'].apply(lambda x: 1 if x < 5 else 0)\n",
    "df['Under_18'] = df['Age'].apply(lambda x: 1 if x < 18 else 0)"
   ]
  },
  {
   "cell_type": "code",
   "execution_count": 837,
   "metadata": {},
   "outputs": [],
   "source": [
    "df['Trip'] = df['HomePlanet'] + '_' + df['Destination']"
   ]
  },
  {
   "cell_type": "code",
   "execution_count": 838,
   "metadata": {},
   "outputs": [],
   "source": [
    "df['Trip'] = df['Trip'].apply(lambda x: 'Unknown' if 'None' in x else x)"
   ]
  },
  {
   "cell_type": "code",
   "execution_count": 839,
   "metadata": {},
   "outputs": [
    {
     "data": {
      "text/plain": [
       "<AxesSubplot:xlabel='HomePlanet', ylabel='Transported'>"
      ]
     },
     "execution_count": 839,
     "metadata": {},
     "output_type": "execute_result"
    },
    {
     "data": {
      "image/png": "[encoded data removed]",
      "text/plain": [
       "<Figure size 432x288 with 1 Axes>"
      ]
     },
     "metadata": {
      "needs_background": "light"
     },
     "output_type": "display_data"
    }
   ],
   "source": [
    "sns.barplot(x='HomePlanet', y='Transported', data=temp)"
   ]
  },
  {
   "cell_type": "code",
   "execution_count": 840,
   "metadata": {},
   "outputs": [
    {
     "data": {
      "text/plain": [
       "<AxesSubplot:xlabel='Destination', ylabel='Transported'>"
      ]
     },
     "execution_count": 840,
     "metadata": {},
     "output_type": "execute_result"
    },
    {
     "data": {
      "image/png": "[encoded data removed]",
      "text/plain": [
       "<Figure size 432x288 with 1 Axes>"
      ]
     },
     "metadata": {
      "needs_background": "light"
     },
     "output_type": "display_data"
    }
   ],
   "source": [
    "sns.barplot(x='Destination', y='Transported', data=temp)"
   ]
  },
  {
   "cell_type": "code",
   "execution_count": 841,
   "metadata": {},
   "outputs": [
    {
     "data": {
      "image/png": "[encoded data removed]",
      "text/plain": [
       "<Figure size 432x288 with 1 Axes>"
      ]
     },
     "metadata": {
      "needs_background": "light"
     },
     "output_type": "display_data"
    }
   ],
   "source": [
    "sns.barplot(x='Trip', y='Transported', data = df.iloc[:8693, :])\n",
    "plt.xticks(rotation=60)\n",
    "plt.show()"
   ]
  },
  {
   "cell_type": "code",
   "execution_count": 842,
   "metadata": {},
   "outputs": [
    {
     "data": {
      "image/png": "[encoded data removed]",
      "text/plain": [
       "<Figure size 432x288 with 1 Axes>"
      ]
     },
     "metadata": {
      "needs_background": "light"
     },
     "output_type": "display_data"
    }
   ],
   "source": [
    "sns.barplot(x='VIP', data=temp, y='Transported')\n",
    "plt.show()"
   ]
  },
  {
   "cell_type": "code",
   "execution_count": 843,
   "metadata": {},
   "outputs": [
    {
     "data": {
      "image/png": "[encoded data removed]",
      "text/plain": [
       "<Figure size 432x288 with 1 Axes>"
      ]
     },
     "metadata": {
      "needs_background": "light"
     },
     "output_type": "display_data"
    }
   ],
   "source": [
    "sns.barplot(x='CryoSleep', data=temp, y='Transported')\n",
    "plt.show()"
   ]
  },
  {
   "cell_type": "code",
   "execution_count": null,
   "metadata": {},
   "outputs": [],
   "source": []
  },
  {
   "cell_type": "code",
   "execution_count": 844,
   "metadata": {},
   "outputs": [
    {
     "data": {
      "text/plain": [
       "Index(['PassengerId', 'HomePlanet', 'CryoSleep', 'Destination', 'Age', 'VIP',\n",
       "       'RoomService', 'FoodCourt', 'ShoppingMall', 'Spa', 'VRDeck', 'Name',\n",
       "       'Transported', 'CabinDeck', 'CabinNum', 'CabinSide', 'GGGG', 'PP',\n",
       "       'GroupCount', 'TotalSpent', 'TotalSpentAbove0', 'RoomServiceAbove0',\n",
       "       'FoodCourtAbove0', 'ShoppingMallAbove0', 'SpaAbove0', 'VRDeckAbove0',\n",
       "       'SpentALot', 'Under_5', 'Under_18', 'Trip'],\n",
       "      dtype='object')"
      ]
     },
     "execution_count": 844,
     "metadata": {},
     "output_type": "execute_result"
    }
   ],
   "source": [
    "df.columns"
   ]
  },
  {
   "cell_type": "code",
   "execution_count": 845,
   "metadata": {},
   "outputs": [
    {
     "data": {
      "text/html": [
       "<div>\n",
       "<style scoped>\n",
       "    .dataframe tbody tr th:only-of-type {\n",
       "        vertical-align: middle;\n",
       "    }\n",
       "\n",
       "    .dataframe tbody tr th {\n",
       "        vertical-align: top;\n",
       "    }\n",
       "\n",
       "    .dataframe thead th {\n",
       "        text-align: right;\n",
       "    }\n",
       "</style>\n",
       "<table border=\"1\" class=\"dataframe\">\n",
       "  <thead>\n",
       "    <tr style=\"text-align: right;\">\n",
       "      <th></th>\n",
       "      <th>PassengerId</th>\n",
       "      <th>HomePlanet</th>\n",
       "      <th>CryoSleep</th>\n",
       "      <th>Destination</th>\n",
       "      <th>Age</th>\n",
       "      <th>VIP</th>\n",
       "      <th>RoomService</th>\n",
       "      <th>FoodCourt</th>\n",
       "      <th>ShoppingMall</th>\n",
       "      <th>Spa</th>\n",
       "      <th>...</th>\n",
       "      <th>TotalSpentAbove0</th>\n",
       "      <th>RoomServiceAbove0</th>\n",
       "      <th>FoodCourtAbove0</th>\n",
       "      <th>ShoppingMallAbove0</th>\n",
       "      <th>SpaAbove0</th>\n",
       "      <th>VRDeckAbove0</th>\n",
       "      <th>SpentALot</th>\n",
       "      <th>Under_5</th>\n",
       "      <th>Under_18</th>\n",
       "      <th>Trip</th>\n",
       "    </tr>\n",
       "  </thead>\n",
       "  <tbody>\n",
       "    <tr>\n",
       "      <th>0</th>\n",
       "      <td>0001_01</td>\n",
       "      <td>Europa</td>\n",
       "      <td>True</td>\n",
       "      <td>TRAPPIST-1e</td>\n",
       "      <td>39.0</td>\n",
       "      <td>False</td>\n",
       "      <td>0.000000</td>\n",
       "      <td>0.000000</td>\n",
       "      <td>0.000000</td>\n",
       "      <td>0.000000</td>\n",
       "      <td>...</td>\n",
       "      <td>0</td>\n",
       "      <td>0</td>\n",
       "      <td>0</td>\n",
       "      <td>0</td>\n",
       "      <td>0</td>\n",
       "      <td>0</td>\n",
       "      <td>0</td>\n",
       "      <td>0</td>\n",
       "      <td>0</td>\n",
       "      <td>Europa_TRAPPIST-1e</td>\n",
       "    </tr>\n",
       "    <tr>\n",
       "      <th>1</th>\n",
       "      <td>0002_01</td>\n",
       "      <td>Earth</td>\n",
       "      <td>False</td>\n",
       "      <td>TRAPPIST-1e</td>\n",
       "      <td>24.0</td>\n",
       "      <td>False</td>\n",
       "      <td>2.041393</td>\n",
       "      <td>1.000000</td>\n",
       "      <td>1.414973</td>\n",
       "      <td>2.740363</td>\n",
       "      <td>...</td>\n",
       "      <td>1</td>\n",
       "      <td>1</td>\n",
       "      <td>1</td>\n",
       "      <td>1</td>\n",
       "      <td>1</td>\n",
       "      <td>1</td>\n",
       "      <td>0</td>\n",
       "      <td>0</td>\n",
       "      <td>0</td>\n",
       "      <td>Earth_TRAPPIST-1e</td>\n",
       "    </tr>\n",
       "    <tr>\n",
       "      <th>2</th>\n",
       "      <td>0003_01</td>\n",
       "      <td>Europa</td>\n",
       "      <td>False</td>\n",
       "      <td>TRAPPIST-1e</td>\n",
       "      <td>58.0</td>\n",
       "      <td>True</td>\n",
       "      <td>1.643453</td>\n",
       "      <td>3.553519</td>\n",
       "      <td>0.000000</td>\n",
       "      <td>3.827111</td>\n",
       "      <td>...</td>\n",
       "      <td>1</td>\n",
       "      <td>1</td>\n",
       "      <td>1</td>\n",
       "      <td>0</td>\n",
       "      <td>1</td>\n",
       "      <td>1</td>\n",
       "      <td>1</td>\n",
       "      <td>0</td>\n",
       "      <td>0</td>\n",
       "      <td>Europa_TRAPPIST-1e</td>\n",
       "    </tr>\n",
       "    <tr>\n",
       "      <th>3</th>\n",
       "      <td>0003_02</td>\n",
       "      <td>Europa</td>\n",
       "      <td>False</td>\n",
       "      <td>TRAPPIST-1e</td>\n",
       "      <td>33.0</td>\n",
       "      <td>False</td>\n",
       "      <td>0.000000</td>\n",
       "      <td>3.108565</td>\n",
       "      <td>2.570543</td>\n",
       "      <td>3.522444</td>\n",
       "      <td>...</td>\n",
       "      <td>1</td>\n",
       "      <td>0</td>\n",
       "      <td>1</td>\n",
       "      <td>1</td>\n",
       "      <td>1</td>\n",
       "      <td>1</td>\n",
       "      <td>1</td>\n",
       "      <td>0</td>\n",
       "      <td>0</td>\n",
       "      <td>Europa_TRAPPIST-1e</td>\n",
       "    </tr>\n",
       "    <tr>\n",
       "      <th>4</th>\n",
       "      <td>0004_01</td>\n",
       "      <td>Earth</td>\n",
       "      <td>False</td>\n",
       "      <td>TRAPPIST-1e</td>\n",
       "      <td>16.0</td>\n",
       "      <td>False</td>\n",
       "      <td>2.482874</td>\n",
       "      <td>1.851258</td>\n",
       "      <td>2.181844</td>\n",
       "      <td>2.752816</td>\n",
       "      <td>...</td>\n",
       "      <td>1</td>\n",
       "      <td>1</td>\n",
       "      <td>1</td>\n",
       "      <td>1</td>\n",
       "      <td>1</td>\n",
       "      <td>1</td>\n",
       "      <td>1</td>\n",
       "      <td>0</td>\n",
       "      <td>1</td>\n",
       "      <td>Earth_TRAPPIST-1e</td>\n",
       "    </tr>\n",
       "  </tbody>\n",
       "</table>\n",
       "<p>5 rows × 30 columns</p>\n",
       "</div>"
      ],
      "text/plain": [
       "  PassengerId HomePlanet  CryoSleep  Destination   Age    VIP  RoomService  \\\n",
       "0     0001_01     Europa       True  TRAPPIST-1e  39.0  False     0.000000   \n",
       "1     0002_01      Earth      False  TRAPPIST-1e  24.0  False     2.041393   \n",
       "2     0003_01     Europa      False  TRAPPIST-1e  58.0   True     1.643453   \n",
       "3     0003_02     Europa      False  TRAPPIST-1e  33.0  False     0.000000   \n",
       "4     0004_01      Earth      False  TRAPPIST-1e  16.0  False     2.482874   \n",
       "\n",
       "   FoodCourt  ShoppingMall       Spa  ...  TotalSpentAbove0 RoomServiceAbove0  \\\n",
       "0   0.000000      0.000000  0.000000  ...                 0                 0   \n",
       "1   1.000000      1.414973  2.740363  ...                 1                 1   \n",
       "2   3.553519      0.000000  3.827111  ...                 1                 1   \n",
       "3   3.108565      2.570543  3.522444  ...                 1                 0   \n",
       "4   1.851258      2.181844  2.752816  ...                 1                 1   \n",
       "\n",
       "  FoodCourtAbove0 ShoppingMallAbove0 SpaAbove0 VRDeckAbove0 SpentALot Under_5  \\\n",
       "0               0                  0         0            0         0       0   \n",
       "1               1                  1         1            1         0       0   \n",
       "2               1                  0         1            1         1       0   \n",
       "3               1                  1         1            1         1       0   \n",
       "4               1                  1         1            1         1       0   \n",
       "\n",
       "   Under_18                Trip  \n",
       "0         0  Europa_TRAPPIST-1e  \n",
       "1         0   Earth_TRAPPIST-1e  \n",
       "2         0  Europa_TRAPPIST-1e  \n",
       "3         0  Europa_TRAPPIST-1e  \n",
       "4         1   Earth_TRAPPIST-1e  \n",
       "\n",
       "[5 rows x 30 columns]"
      ]
     },
     "execution_count": 845,
     "metadata": {},
     "output_type": "execute_result"
    }
   ],
   "source": [
    "df.head()"
   ]
  },
  {
   "cell_type": "code",
   "execution_count": 846,
   "metadata": {},
   "outputs": [],
   "source": [
    "df.drop(['GGGG', 'PP', 'PassengerId', 'Name', 'CabinNum', 'CabinDeck'], axis=1, inplace=True)"
   ]
  },
  {
   "cell_type": "code",
   "execution_count": 847,
   "metadata": {},
   "outputs": [],
   "source": [
    "train = df.iloc[:8693, :]\n",
    "test = df.iloc[8693:, :]\n",
    "X_train = train.drop(['Transported'], axis=1)\n",
    "y_train = train['Transported'].astype('int')\n",
    "X_test = test.drop(['Transported'], axis=1)"
   ]
  },
  {
   "cell_type": "code",
   "execution_count": 848,
   "metadata": {},
   "outputs": [],
   "source": [
    "X_train = pd.get_dummies(X_train)\n",
    "X_test = pd.get_dummies(X_test)"
   ]
  },
  {
   "cell_type": "code",
   "execution_count": 849,
   "metadata": {},
   "outputs": [
    {
     "data": {
      "text/plain": [
       "Index(['CryoSleep', 'Age', 'VIP', 'RoomService', 'FoodCourt', 'ShoppingMall',\n",
       "       'Spa', 'VRDeck', 'GroupCount', 'TotalSpent', 'TotalSpentAbove0',\n",
       "       'RoomServiceAbove0', 'FoodCourtAbove0', 'ShoppingMallAbove0',\n",
       "       'SpaAbove0', 'VRDeckAbove0', 'SpentALot', 'Under_5', 'Under_18',\n",
       "       'HomePlanet_Earth', 'HomePlanet_Europa', 'HomePlanet_Mars',\n",
       "       'HomePlanet_None', 'Destination_55 Cancri e', 'Destination_None',\n",
       "       'Destination_PSO J318.5-22', 'Destination_TRAPPIST-1e', 'CabinSide_N',\n",
       "       'CabinSide_P', 'CabinSide_S', 'Trip_Earth_55 Cancri e',\n",
       "       'Trip_Earth_PSO J318.5-22', 'Trip_Earth_TRAPPIST-1e',\n",
       "       'Trip_Europa_55 Cancri e', 'Trip_Europa_PSO J318.5-22',\n",
       "       'Trip_Europa_TRAPPIST-1e', 'Trip_Mars_55 Cancri e',\n",
       "       'Trip_Mars_PSO J318.5-22', 'Trip_Mars_TRAPPIST-1e', 'Trip_Unknown'],\n",
       "      dtype='object')"
      ]
     },
     "execution_count": 849,
     "metadata": {},
     "output_type": "execute_result"
    }
   ],
   "source": [
    "X_train.columns"
   ]
  },
  {
   "cell_type": "code",
   "execution_count": 850,
   "metadata": {},
   "outputs": [],
   "source": [
    "clf = RandomForestClassifier()\n",
    "# kf = StratifiedKFold(n_splits=5, shuffle=True, random_state=42)\n",
    "# scores = cross_val_score(clf, X_train, y_train, cv=kf)\n",
    "# print(scores.mean())\n",
    "clf.fit(X_train, y_train)\n",
    "preds = clf.predict(X_test)"
   ]
  },
  {
   "cell_type": "code",
   "execution_count": 851,
   "metadata": {},
   "outputs": [
    {
     "name": "stdout",
     "output_type": "stream",
     "text": [
      "Age 0.15861533021696955\n",
      "TotalSpent 0.12156029904365198\n",
      "Spa 0.07713389537371856\n",
      "FoodCourt 0.0765072545715944\n",
      "VRDeck 0.06678656638207882\n",
      "RoomService 0.0666738569730242\n",
      "ShoppingMall 0.06579673548956037\n",
      "CryoSleep 0.05116730478767217\n",
      "GroupCount 0.050497785203826175\n",
      "TotalSpentAbove0 0.0388523506654649\n",
      "SpentALot 0.02290817822242835\n",
      "RoomServiceAbove0 0.02077410578507104\n",
      "HomePlanet_Earth 0.020286243898979647\n",
      "SpaAbove0 0.018204044148455934\n",
      "VRDeckAbove0 0.01602327953107869\n",
      "Trip_Earth_TRAPPIST-1e 0.01250728651215049\n",
      "HomePlanet_Europa 0.012186949901900536\n",
      "CabinSide_S 0.01100997024337775\n",
      "CabinSide_P 0.010492366636772155\n",
      "FoodCourtAbove0 0.01035750940566233\n",
      "ShoppingMallAbove0 0.008986729672955641\n",
      "Under_18 0.007051137956420145\n",
      "HomePlanet_Mars 0.006442522665406539\n",
      "Destination_TRAPPIST-1e 0.006000471783882823\n",
      "Destination_55 Cancri e 0.004878306025899156\n",
      "Trip_Europa_TRAPPIST-1e 0.004592905465328533\n",
      "Trip_Earth_55 Cancri e 0.004081841906045995\n",
      "Trip_Mars_TRAPPIST-1e 0.004067329668335416\n",
      "Trip_Europa_55 Cancri e 0.00392263884346989\n",
      "Destination_PSO J318.5-22 0.003620031898135086\n",
      "Trip_Earth_PSO J318.5-22 0.003120248604335693\n",
      "CabinSide_N 0.002618557645977799\n",
      "VIP 0.002505328699313977\n",
      "Under_5 0.0024454327688575115\n",
      "Trip_Unknown 0.002178345755623348\n",
      "HomePlanet_None 0.0017963133789479122\n",
      "Destination_None 0.0014400916152422318\n",
      "Trip_Mars_55 Cancri e 0.0010584221158809301\n",
      "Trip_Mars_PSO J318.5-22 0.0006491972203604939\n",
      "Trip_Europa_PSO J318.5-22 0.00020283331614289499\n"
     ]
    }
   ],
   "source": [
    "fimports = list(zip(X_train.columns, clf.feature_importances_))\n",
    "fimports.sort(key=lambda x: x[1], reverse=True)\n",
    "for i, j in fimports:\n",
    "    print(i, j)"
   ]
  },
  {
   "cell_type": "code",
   "execution_count": 852,
   "metadata": {},
   "outputs": [
    {
     "data": {
      "text/plain": [
       "array([0.0511673 , 0.15861533, 0.00250533, 0.06667386, 0.07650725,\n",
       "       0.06579674, 0.0771339 , 0.06678657, 0.05049779, 0.1215603 ,\n",
       "       0.03885235, 0.02077411, 0.01035751, 0.00898673, 0.01820404,\n",
       "       0.01602328, 0.02290818, 0.00244543, 0.00705114, 0.02028624,\n",
       "       0.01218695, 0.00644252, 0.00179631, 0.00487831, 0.00144009,\n",
       "       0.00362003, 0.00600047, 0.00261856, 0.01049237, 0.01100997,\n",
       "       0.00408184, 0.00312025, 0.01250729, 0.00392264, 0.00020283,\n",
       "       0.00459291, 0.00105842, 0.0006492 , 0.00406733, 0.00217835])"
      ]
     },
     "execution_count": 852,
     "metadata": {},
     "output_type": "execute_result"
    }
   ],
   "source": [
    "clf.feature_importances_"
   ]
  },
  {
   "cell_type": "code",
   "execution_count": 853,
   "metadata": {},
   "outputs": [],
   "source": [
    "output = pd.DataFrame({'PassengerId': test_df.PassengerId, 'Transported': preds.astype('bool')})\n",
    "output.to_csv('submission.csv', index=False)"
   ]
  }
 ],
 "metadata": {
  "kernelspec": {
   "display_name": "Python 3.9.13 64-bit (windows store)",
   "language": "python",
   "name": "python3"
  },
  "language_info": {
   "codemirror_mode": {
    "name": "ipython",
    "version": 3
   },
   "file_extension": ".py",
   "mimetype": "text/x-python",
   "name": "python",
   "nbconvert_exporter": "python",
   "pygments_lexer": "ipython3",
   "version": "3.9.13"
  },
  "orig_nbformat": 4,
  "vscode": {
   "interpreter": {
    "hash": "577cd82dce11bb3dc408dc87b140042ea24ff4301c4cdd330bbe9a55103eb11a"
   }
  }
 },
 "nbformat": 4,
 "nbformat_minor": 2
}
